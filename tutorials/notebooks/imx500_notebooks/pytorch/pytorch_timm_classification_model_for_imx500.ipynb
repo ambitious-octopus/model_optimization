{
 "cells": [
  {
   "cell_type": "markdown",
   "id": "fab9d9939dc74da4",
   "metadata": {
    "collapsed": false
   },
   "source": [
    "# PyTorch Model from Timm - Quantization for IMX500\n",
    "\n",
    "[Run this tutorial in Google Colab](https://colab.research.google.com/github/sony/model_optimization/blob/main/tutorials/notebooks/imx500_notebooks/pytorch/pytorch_timm_classification_model_for_imx500.ipynb)\n",
    "\n",
    "## Overview\n",
    "\n",
    "In this tutorial, we will illustrate a basic and quick process of preparing a pre-trained model for deployment using MCT. \n",
    "We will use an existing pre-trained model from [Timm](https://github.com/huggingface/pytorch-image-models). The user can choose any other timm model from this list of compatible model for his requirements.   \n",
    "\n"
   ]
  },
  {
   "cell_type": "markdown",
   "id": "d74f9c855ec54081",
   "metadata": {
    "collapsed": false
   },
   "source": [
    "## Setup\n",
    "### Install the relevant packages"
   ]
  },
  {
   "cell_type": "code",
   "execution_count": null,
   "id": "7c7fa04c9903736f",
   "metadata": {
    "collapsed": false
   },
   "outputs": [],
   "source": [
    "!pip install -q torch\n",
    "!pip install onnx\n",
    "!pip install timm"
   ]
  },
  {
   "cell_type": "markdown",
   "id": "57717bc8f59a0d85",
   "metadata": {
    "collapsed": false
   },
   "source": [
    "Install MCT (if it’s not already installed). Additionally, in order to use all the necessary utility functions for this tutorial, we also copy [MCT tutorials folder](https://github.com/sony/model_optimization/tree/main/tutorials) and add it to the system path."
   ]
  },
  {
   "cell_type": "code",
   "execution_count": null,
   "id": "9728247bc20d0600",
   "metadata": {
    "collapsed": false
   },
   "outputs": [],
   "source": [
    "import sys\n",
    "import importlib\n",
    "\n",
    "if not importlib.util.find_spec('model_compression_toolkit'):\n",
    "    !pip install model_compression_toolkit\n",
    "!git clone https://github.com/sony/model_optimization.git temp_mct && mv temp_mct/tutorials . && \\rm -rf temp_mct\n",
    "sys.path.insert(0,\"tutorials\")\n"
   ]
  },
  {
   "cell_type": "markdown",
   "id": "7a1038b9fd98bba2",
   "metadata": {
    "collapsed": false
   },
   "source": [
    "### Download ImageNet validation set\n",
    "Download ImageNet dataset with only the validation split.\n",
    "\n",
    "Note that for demonstration purposes we use the validation set for the model quantization routines. Usually, a subset of the training dataset is used, but loading it is a heavy procedure that is unnecessary for the sake of this demonstration.\n",
    "\n",
    "This step may take several minutes..."
   ]
  },
  {
   "cell_type": "code",
   "execution_count": null,
   "id": "8bea492d71b4060f",
   "metadata": {
    "collapsed": false
   },
   "outputs": [],
   "source": [
    "import os\n",
    "if not os.path.isdir('imagenet'):\n",
    "    !mkdir imagenet\n",
    "    !wget https://image-net.org/data/ILSVRC/2012/ILSVRC2012_devkit_t12.tar.gz\n",
    "    !mv ILSVRC2012_devkit_t12.tar.gz imagenet/\n",
    "    !wget https://image-net.org/data/ILSVRC/2012/ILSVRC2012_img_val.tar\n",
    "    !mv ILSVRC2012_img_val.tar imagenet/"
   ]
  },
  {
   "cell_type": "markdown",
   "id": "084c2b8b-3175-4d46-a18a-7c4d8b6fcb38",
   "metadata": {},
   "source": [
    "## Model Quantization\n",
    "\n",
    "### Download a Pre-Trained Model \n"
   ]
  },
  {
   "cell_type": "code",
   "execution_count": null,
   "id": "e8395b28-4732-4d18-b081-5d3bdf508691",
   "metadata": {},
   "outputs": [],
   "source": [
    "import timm\n",
    "\n",
    "selected_model = 'mobilenetv2_100.ra_in1k'\n",
    "\n",
    "model = timm.create_model(selected_model, pretrained=True)\n",
    "model.eval()\n"
   ]
  },
  {
   "cell_type": "markdown",
   "id": "3cde2f8e-0642-4374-a1f4-df2775fe7767",
   "metadata": {},
   "source": [
    "### Post training quantization using Model Compression Toolkit \n",
    "\n",
    "Now, we're all set to use MCT's post-training quantization. To begin, we'll define a representative dataset and proceed with the model quantization. Please note that, for demonstration purposes, we'll use the evaluation dataset as our representative dataset. We'll calibrate the model using 80 representative images, divided into 20 iterations of 'batch_size' images each. "
   ]
  },
  {
   "cell_type": "code",
   "execution_count": null,
   "id": "56393342-cecf-4f64-b9ca-2f515c765942",
   "metadata": {
    "collapsed": false
   },
   "outputs": [],
   "source": [
    "import model_compression_toolkit as mct\n",
    "from model_compression_toolkit.core.pytorch.pytorch_device_config import get_working_device\n",
    "from timm.data import create_loader, resolve_data_config\n",
    "from typing import Iterator, Tuple, List\n",
    "import torchvision\n",
    "\n",
    "\n",
    "BATCH_SIZE = 4\n",
    "n_iters = 20\n",
    "IMG_SIZE = 256\n",
    "DATA_ARGS = {'img_size': IMG_SIZE}\n",
    "device = get_working_device()\n",
    "\n",
    "# Load representative dataset\n",
    "data_config = resolve_data_config(args=DATA_ARGS,\n",
    "                                  model=model)\n",
    "\n",
    "# Extract ImageNet validation dataset using torchvision \"datasets\" module\n",
    "val_dataset = torchvision.datasets.ImageNet(root='./imagenet', split='val')\n",
    "    \n",
    "representative_dataset = create_loader(\n",
    "    val_dataset,\n",
    "    input_size=data_config['input_size'],\n",
    "    batch_size=BATCH_SIZE,\n",
    "    interpolation=data_config['interpolation'],\n",
    "    mean=data_config['mean'],\n",
    "    std=data_config['std'],\n",
    "    crop_pct=data_config['crop_pct'],\n",
    "    device=device)\n",
    "\n",
    "# Define representative dataset generator\n",
    "def get_representative_dataset(n_iter: int, dataset_loader: Iterator[Tuple]):\n",
    "    \"\"\"\n",
    "    This function creates a representative dataset generator. The generator yields numpy\n",
    "        arrays of batches of shape: [Batch, H, W ,C].\n",
    "    Args:\n",
    "        n_iter: number of iterations for MCT to calibrate on\n",
    "    Returns:\n",
    "        A representative dataset generator\n",
    "    \"\"\"       \n",
    "    def representative_dataset() -> Iterator[List]:\n",
    "        ds_iter = iter(dataset_loader)\n",
    "        for _ in range(n_iter):\n",
    "            yield [next(ds_iter)[0]]\n",
    "\n",
    "    return representative_dataset\n",
    "\n",
    "# Get representative dataset generator\n",
    "representative_dataset_gen = get_representative_dataset(n_iter=n_iters,\n",
    "                                                        dataset_loader=representative_dataset)\n",
    "\n",
    "# Perform post training quantization with the default configuration\n",
    "quant_model, _ = mct.ptq.pytorch_post_training_quantization(model, representative_dataset_gen)\n",
    "print('Quantized model is ready')"
   ]
  },
  {
   "cell_type": "markdown",
   "id": "3be2016acdc9da60",
   "metadata": {
    "collapsed": false
   },
   "source": [
    "### Model Export\n",
    "\n",
    "Now, we can export the quantized model, ready for deployment, into a `.onnx` format file. Please ensure that the `save_model_path` has been set correctly. "
   ]
  },
  {
   "cell_type": "code",
   "execution_count": null,
   "id": "72dd885c7b92fa93",
   "metadata": {
    "collapsed": false
   },
   "outputs": [],
   "source": [
    "mct.exporter.pytorch_export_model(model=quant_model,\n",
    "                                  save_model_path='./qmodel.onnx',\n",
    "                                  repr_dataset=representative_dataset_gen,\n",
    "                                  onnx_opset_version=17)"
   ]
  },
  {
   "cell_type": "markdown",
   "source": [
    "## Evaluation on ImageNet dataset\n",
    "\n",
    "### Floating point model evaluation\n",
    "Please ensure that the dataset path has been set correctly before running this code cell."
   ],
   "metadata": {
    "collapsed": false
   },
   "id": "43a8a6d11d696b09"
  },
  {
   "cell_type": "code",
   "execution_count": null,
   "id": "01e90967-594b-480f-b2e6-45e2c9ce9cee",
   "metadata": {},
   "outputs": [],
   "source": [
    "from tutorials.resources.utils.pytorch_tutorial_tools import classification_eval\n",
    "\n",
    "val_loader = create_loader(\n",
    "    val_dataset,\n",
    "    input_size=data_config['input_size'],\n",
    "    batch_size=BATCH_SIZE,\n",
    "    interpolation=data_config['interpolation'],\n",
    "    mean=data_config['mean'],\n",
    "    std=data_config['std'],\n",
    "    crop_pct=data_config['crop_pct'],\n",
    "    device=device)\n",
    "\n",
    "# Evaluate the model on ImageNet\n",
    "eval_results = classification_eval(model, val_loader)\n",
    "\n",
    "# Print float model Accuracy results\n",
    "print(\"Float model Accuracy: {:.4f}\".format(round(100 * eval_results[0], 2)))"
   ]
  },
  {
   "cell_type": "markdown",
   "id": "4fb6bffc-23d1-4852-8ec5-9007361c8eeb",
   "metadata": {},
   "source": [
    "### Quantized model evaluation\n",
    "We can evaluate the performance of the quantized model. There is a slight decrease in performance that can be further mitigated by either expanding the representative dataset or employing MCT's advanced quantization methods, such as GPTQ (Gradient-Based/Enhanced Post Training Quantization)."
   ]
  },
  {
   "cell_type": "code",
   "execution_count": null,
   "id": "8dc7b87c-a9f4-4568-885a-fe009c8f4e8f",
   "metadata": {},
   "outputs": [],
   "source": [
    "# Evaluate the quantized model on ImageNet\n",
    "eval_results = classification_eval(quant_model, val_loader)\n",
    "\n",
    "# Print quantized model Accuracy results\n",
    "print(\"Quantized model Accuracy: {:.4f}\".format(round(100 * eval_results[0], 2)))"
   ]
  },
  {
   "cell_type": "markdown",
   "id": "6d93352843a27433",
   "metadata": {
    "collapsed": false
   },
   "source": [
    "\\\n",
    "Copyright 2024 Sony Semiconductor Israel, Inc. All rights reserved.\n",
    "\n",
    "Licensed under the Apache License, Version 2.0 (the \"License\");\n",
    "you may not use this file except in compliance with the License.\n",
    "You may obtain a copy of the License at\n",
    "\n",
    "    http://www.apache.org/licenses/LICENSE-2.0\n",
    "\n",
    "Unless required by applicable law or agreed to in writing, software\n",
    "distributed under the License is distributed on an \"AS IS\" BASIS,\n",
    "WITHOUT WARRANTIES OR CONDITIONS OF ANY KIND, either express or implied.\n",
    "See the License for the specific language governing permissions and\n",
    "limitations under the License."
   ]
  }
 ],
 "metadata": {
  "colab": {
   "provenance": []
  },
  "kernelspec": {
   "display_name": "Python 3 (ipykernel)",
   "language": "python",
   "name": "python3"
  },
  "language_info": {
   "codemirror_mode": {
    "name": "ipython",
    "version": 3
   },
   "file_extension": ".py",
   "mimetype": "text/x-python",
   "name": "python",
   "nbconvert_exporter": "python",
   "pygments_lexer": "ipython3",
   "version": "3.11.4"
  }
 },
 "nbformat": 4,
 "nbformat_minor": 5
}
