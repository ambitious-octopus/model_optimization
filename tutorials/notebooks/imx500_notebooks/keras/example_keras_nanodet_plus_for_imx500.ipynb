{
 "cells": [
  {
   "cell_type": "markdown",
   "id": "4c261298-309f-41e8-9338-a5e205f09b05",
   "metadata": {},
   "source": [
    "# Post Training Quantization a Nanodet-Plus Object Detection Model\n",
    "\n",
    "[Run this tutorial in Google Colab](https://colab.research.google.com/github/sony/model_optimization/blob/main/tutorials/notebooks/imx500_notebooks/keras/example_keras_nanodet_plus_for_imx500.ipynb)\n",
    "\n",
    "## Overview\n",
    "\n",
    "\n",
    "In this tutorial, we'll demonstrate the post-training quantization using MCT for a pre-trained object detection model in Keras. Specifically, we'll integrate post-processing, including the non-maximum suppression (NMS) layer, into the model. This integration aligns with the imx500 target platform capabilities.\n",
    "\n",
    "In this example we will use an existing pre-trained Nanodet-Plus model taken from [https://github.com/RangiLyu/nanodet](https://github.com/RangiLyu/nanodet). We will convert the model to a Tensorflow model that includes box decoding and NMS layer. Further, we will quantize the model using MCT post training quantization and evaluate the performance of the floating point model and the quantized model on COCO dataset.\n",
    "\n",
    "\n",
    "## Summary\n",
    "\n",
    "In this tutorial we will cover:\n",
    "\n",
    "1. Post-Training Quantization using MCT of Keras object detection model including the post-processing.\n",
    "2. Data preparation - loading and preprocessing validation and representative datasets from COCO.\n",
    "3. Accuracy evaluation of the floating-point and the quantized models."
   ]
  },
  {
   "cell_type": "markdown",
   "source": [
    "## Setup\n",
    "Install the relevant packages."
   ],
   "metadata": {
    "collapsed": false
   },
   "id": "d74f9c855ec54081"
  },
  {
   "cell_type": "code",
   "execution_count": null,
   "outputs": [],
   "source": [
    "TF_VER = '2.14.0'\n",
    "\n",
    "!pip install -q tensorflow=={TF_VER}\n",
    "!pip install -q pycocotools\n",
    "!pip install 'huggingface-hub<=0.21.4'"
   ],
   "metadata": {
    "collapsed": false
   },
   "id": "7c7fa04c9903736f"
  },
  {
   "cell_type": "markdown",
   "source": [
    "Install MCT (if it's not already installed). Additionally, in order to use all the necessary utility functions for this tutorial, we also copy [MCT tutorials folder](https://github.com/sony/model_optimization/tree/main/tutorials) and add it to the system path.\n"
   ],
   "metadata": {
    "collapsed": false
   },
   "id": "32eedce88a1e52bd"
  },
  {
   "cell_type": "code",
   "execution_count": null,
   "outputs": [],
   "source": [
    "import sys\n",
    "import os\n",
    "import importlib\n",
    "\n",
    "if not importlib.util.find_spec('model_compression_toolkit'):\n",
    "    !pip install model_compression_toolkit\n",
    "!git clone https://github.com/sony/model_optimization.git temp_mct && mv temp_mct/tutorials . && \\rm -rf temp_mct\n",
    "sys.path.insert(0,\"tutorials\")"
   ],
   "metadata": {
    "collapsed": false
   },
   "id": "342eb1e5639e0cb7"
  },
  {
   "cell_type": "markdown",
   "source": [
    "Finally, load COCO evaluation set"
   ],
   "metadata": {
    "collapsed": false
   },
   "id": "625cd9bfff9aa210"
  },
  {
   "cell_type": "code",
   "execution_count": null,
   "outputs": [],
   "source": [
    "if not os.path.isdir('coco'):\n",
    "    !wget -nc http://images.cocodataset.org/annotations/annotations_trainval2017.zip\n",
    "    !unzip -q -o annotations_trainval2017.zip -d ./coco\n",
    "    !echo Done loading annotations\n",
    "    !wget -nc http://images.cocodataset.org/zips/val2017.zip\n",
    "    !unzip -q -o val2017.zip -d ./coco\n",
    "    !echo Done loading val2017 images"
   ],
   "metadata": {
    "collapsed": false
   },
   "id": "ab47e0b3bbfa4bd9"
  },
  {
   "cell_type": "markdown",
   "id": "084c2b8b-3175-4d46-a18a-7c4d8b6fcb38",
   "metadata": {},
   "source": [
    "## Floating Point Model\n",
    "\n",
    "### Load the pre-trained weights of Nanodet-Plus\n",
    "We begin by loading a pre-trained [Nanodet-Plus](https://huggingface.co/SSI-DNN/keras_nanodet_plus_x1.5_416x416) model. This implementation is based on [nanodet](https://github.com/RangiLyu/nanodet). For further insights into the model's implementation details, please refer to [mct_model_garden](https://github.com/sony/model_optimization/tree/main/tutorials/mct_model_garden/models_keras/nanodet). "
   ]
  },
  {
   "cell_type": "code",
   "execution_count": null,
   "id": "e8395b28-4732-4d18-b081-5d3bdf508691",
   "metadata": {},
   "outputs": [],
   "source": [
    "from huggingface_hub import from_pretrained_keras\n",
    "\n",
    "model = from_pretrained_keras('SSI-DNN/keras_nanodet_plus_x1.5_416x416')"
   ]
  },
  {
   "cell_type": "markdown",
   "source": [
    "### Generate Nanoedet-Plus Keras model\n",
    "In the following steps, we integrate the post-processing components, which include box decoding layers following by tensorflow [tf.image.combined_non_max_suppression](https://www.tensorflow.org/api_docs/python/tf/image/combined_non_max_suppression) layer.\n"
   ],
   "metadata": {
    "collapsed": false
   },
   "id": "7f148e78b769f1dc"
  },
  {
   "cell_type": "code",
   "execution_count": null,
   "outputs": [],
   "source": [
    "import tensorflow as tf\n",
    "from keras.models import Model\n",
    "from tutorials.mct_model_garden.models_keras.nanodet.nanodet_keras_model import nanodet_box_decoding\n",
    "\n",
    "# Parameters of nanodet-plus-m-1.5x_416\n",
    "INPUT_RESOLUTION = 416\n",
    "INPUT_SHAPE = (INPUT_RESOLUTION, INPUT_RESOLUTION, 3)\n",
    "SCALE_FACTOR = 1.5\n",
    "BOTTLENECK_RATIO = 0.5\n",
    "FEATURE_CHANNELS = 128\n",
    "\n",
    "# Add Nanodet Box decoding layer (decode the model outputs to bounding box coordinates)\n",
    "scores, boxes = nanodet_box_decoding(model.output, res=INPUT_RESOLUTION)\n",
    "\n",
    "# Add Tensorflow NMS layer\n",
    "outputs = tf.image.combined_non_max_suppression(\n",
    "    boxes,\n",
    "    scores,\n",
    "    max_output_size_per_class=300,\n",
    "    max_total_size=300,\n",
    "    iou_threshold=0.65,\n",
    "    score_threshold=0.001,\n",
    "    pad_per_class=False,\n",
    "    clip_boxes=False\n",
    "    )\n",
    "\n",
    "model = Model(model.input, outputs, name='Nanodet_plus_m_1.5x_416')\n",
    "\n",
    "print('Model is ready for evaluation')"
   ],
   "metadata": {
    "collapsed": false
   },
   "id": "698ce1d40f2cdf1f"
  },
  {
   "cell_type": "markdown",
   "id": "3cde2f8e-0642-4374-a1f4-df2775fe7767",
   "metadata": {},
   "source": [
    "#### Evaluate the floating point model\n",
    "Next, we evaluate the floating point model by using `cocoeval` library alongside additional dataset utilities. We can verify the mAP accuracy aligns with that of the original model. \n",
    "Note that we set the \"batch_size\" to 5 and the preprocessing according to [Nanodet](https://github.com/RangiLyu/nanodet/tree/main).\n",
    "Please ensure that the dataset path has been set correctly before running this code cell."
   ]
  },
  {
   "cell_type": "code",
   "execution_count": null,
   "id": "56393342-cecf-4f64-b9ca-2f515c765942",
   "metadata": {},
   "outputs": [],
   "source": [
    "import cv2\n",
    "from tutorials.mct_model_garden.evaluation_metrics.coco_evaluation import coco_dataset_generator, CocoEval\n",
    "\n",
    "EVAL_DATASET_FOLDER = './coco/val2017'\n",
    "EVAL_DATASET_ANNOTATION_FILE = './coco/annotations/instances_val2017.json'\n",
    "\n",
    "BATCH_SIZE = 5\n",
    "\n",
    "def nanodet_preprocess(x):\n",
    "    img_mean = [103.53, 116.28, 123.675]\n",
    "    img_std = [57.375, 57.12, 58.395]\n",
    "    x = cv2.resize(x, (416, 416))\n",
    "    x = (x - img_mean) / img_std\n",
    "    return x\n",
    "\n",
    "# Load COCO evaluation set\n",
    "val_dataset = coco_dataset_generator(dataset_folder=EVAL_DATASET_FOLDER,\n",
    "                                     annotation_file=EVAL_DATASET_ANNOTATION_FILE,\n",
    "                                     preprocess=nanodet_preprocess,\n",
    "                                     batch_size=BATCH_SIZE)\n",
    "\n",
    "# Initialize the evaluation metric object\n",
    "coco_metric = CocoEval(EVAL_DATASET_ANNOTATION_FILE)\n",
    "\n",
    "# Iterate and the evaluation set\n",
    "for batch_idx, (images, targets) in enumerate(val_dataset):\n",
    "    \n",
    "    # Run inference on the batch\n",
    "    outputs = model(images)\n",
    "\n",
    "    # Add the model outputs to metric object (a dictionary of outputs after postprocess: boxes, scores & classes)\n",
    "    coco_metric.add_batch_detections(outputs, targets)\n",
    "    if (batch_idx + 1) % 100 == 0:\n",
    "        print(f'processed {(batch_idx + 1) * BATCH_SIZE} images')\n",
    "\n",
    "# Print float model mAP results\n",
    "print(\"Float model mAP: {:.4f}\".format(coco_metric.result()[0]))"
   ]
  },
  {
   "cell_type": "markdown",
   "id": "015e760b-6555-45b4-aaf9-500e974c1d86",
   "metadata": {},
   "source": [
    "## Quantize Model\n",
    "\n",
    "### Post training quantization using Model Compression Toolkit \n",
    "\n",
    "Now we are ready to use MCT's post training quantization! We will define a representative dataset and proceed with the model quantization. Please note that, for the sake of demonstration, we'll use the evaluation dataset as our representative dataset (and skip the download of the training dataset). We will use 100 representative images for calibration (20 iterations of \"batch_size\" images each).\n",
    "Same as the above section, please ensure that the dataset path has been set correctly."
   ]
  },
  {
   "cell_type": "code",
   "execution_count": null,
   "id": "01e90967-594b-480f-b2e6-45e2c9ce9cee",
   "metadata": {},
   "outputs": [],
   "source": [
    "import model_compression_toolkit as mct\n",
    "from typing import Iterator, Tuple, List\n",
    "\n",
    "REPRESENTATIVE_DATASET_FOLDER = './coco/val2017'\n",
    "REPRESENTATIVE_DATASET_ANNOTATION_FILE = './coco/annotations/instances_val2017.json'\n",
    "n_iters = 20\n",
    "\n",
    "# Load representative dataset\n",
    "representative_dataset = coco_dataset_generator(dataset_folder=REPRESENTATIVE_DATASET_FOLDER,\n",
    "                                                annotation_file=REPRESENTATIVE_DATASET_ANNOTATION_FILE,\n",
    "                                                preprocess=nanodet_preprocess,\n",
    "                                                batch_size=BATCH_SIZE)\n",
    "\n",
    "# Define representative dataset generator\n",
    "def get_representative_dataset(n_iter: int, dataset_loader: Iterator[Tuple]):\n",
    "    \"\"\"\n",
    "    This function creates a representative dataset generator.\n",
    "    \n",
    "    Args:\n",
    "        n_iter: number of iterations for MCT to calibrate on\n",
    "    Returns:\n",
    "        A representative dataset generator\n",
    "    \"\"\"    \n",
    "    def representative_dataset() -> Iterator[List]:\n",
    "        \"\"\"\n",
    "        Creates a representative dataset generator from a PyTorch data loader, The generator yields numpy\n",
    "        arrays of batches of shape: [Batch, H, W ,C].\n",
    "        \n",
    "        Returns:\n",
    "            A representative dataset generator\n",
    "        \"\"\"\n",
    "        ds_iter = iter(dataset_loader)\n",
    "        for _ in range(n_iter):\n",
    "            yield [next(ds_iter)[0]]\n",
    "\n",
    "    return representative_dataset\n",
    "\n",
    "# Preform post training quantization \n",
    "quant_model, _ = mct.ptq.keras_post_training_quantization(model,\n",
    "                                                          get_representative_dataset(n_iters, representative_dataset))\n",
    "\n",
    "print('Quantized model is ready')"
   ]
  },
  {
   "cell_type": "markdown",
   "id": "4fb6bffc-23d1-4852-8ec5-9007361c8eeb",
   "metadata": {},
   "source": [
    "### Evaluate quantized model\n",
    "Lastly, we can evaluate the performance of the quantized model. There is a slight decrease in performance that can be further mitigated by either expanding the representative dataset or employing MCT's advanced quantization methods, such as EPTQ (Enhanced Post Training Quantization)."
   ]
  },
  {
   "cell_type": "code",
   "execution_count": null,
   "id": "8dc7b87c-a9f4-4568-885a-fe009c8f4e8f",
   "metadata": {},
   "outputs": [],
   "source": [
    "# Re-load COCO evaluation set\n",
    "val_dataset = coco_dataset_generator(dataset_folder=EVAL_DATASET_FOLDER,\n",
    "                                     annotation_file=EVAL_DATASET_ANNOTATION_FILE,\n",
    "                                     preprocess=nanodet_preprocess,\n",
    "                                     batch_size=BATCH_SIZE)\n",
    "\n",
    "# Initialize the evaluation metric object\n",
    "coco_metric = CocoEval(EVAL_DATASET_ANNOTATION_FILE)\n",
    "\n",
    "# Iterate and the evaluation set\n",
    "for batch_idx, (images, targets) in enumerate(val_dataset):\n",
    "    # Run inference on the batch\n",
    "    outputs = quant_model(images)\n",
    "\n",
    "    # Add the model outputs to metric object (a dictionary of outputs after postprocess: boxes, scores & classes)\n",
    "    coco_metric.add_batch_detections(outputs, targets)\n",
    "    if (batch_idx + 1) % 100 == 0:\n",
    "        print(f'processed {(batch_idx + 1) * BATCH_SIZE} images')\n",
    "\n",
    "# Print quantized model mAP results\n",
    "print(\"Quantized model mAP: {:.4f}\".format(coco_metric.result()[0]))"
   ]
  },
  {
   "cell_type": "markdown",
   "source": [
    "\\\n",
    "Copyright 2024 Sony Semiconductor Israel, Inc. All rights reserved.\n",
    "\n",
    "Licensed under the Apache License, Version 2.0 (the \"License\");\n",
    "you may not use this file except in compliance with the License.\n",
    "You may obtain a copy of the License at\n",
    "\n",
    "    http://www.apache.org/licenses/LICENSE-2.0\n",
    "\n",
    "Unless required by applicable law or agreed to in writing, software\n",
    "distributed under the License is distributed on an \"AS IS\" BASIS,\n",
    "WITHOUT WARRANTIES OR CONDITIONS OF ANY KIND, either express or implied.\n",
    "See the License for the specific language governing permissions and\n",
    "limitations under the License."
   ],
   "metadata": {
    "collapsed": false
   },
   "id": "764aee7ef2258942"
  }
 ],
 "metadata": {
  "kernelspec": {
   "display_name": "Python 3 (ipykernel)",
   "language": "python",
   "name": "python3"
  },
  "language_info": {
   "codemirror_mode": {
    "name": "ipython",
    "version": 3
   },
   "file_extension": ".py",
   "mimetype": "text/x-python",
   "name": "python",
   "nbconvert_exporter": "python",
   "pygments_lexer": "ipython3",
   "version": "3.8.13"
  }
 },
 "nbformat": 4,
 "nbformat_minor": 5
}
