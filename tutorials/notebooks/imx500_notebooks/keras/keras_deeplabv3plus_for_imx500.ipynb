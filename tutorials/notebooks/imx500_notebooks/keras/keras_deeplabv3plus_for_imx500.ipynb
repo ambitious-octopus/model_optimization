{
 "cells": [
  {
   "cell_type": "markdown",
   "id": "4c261298-309f-41e8-9338-a5e205f09b05",
   "metadata": {},
   "source": [
    "# DeeplabV3+ Semantic Segmentation Keras Model - Quantization for IMX500\n",
    "\n",
    "[Run this tutorial in Google Colab](https://colab.research.google.com/github/sony/model_optimization/blob/main/tutorials/notebooks/imx500_notebooks/keras/keras_deeplabv3plus_for_imx500.ipynb)\n",
    "\n",
    "## Overview\n",
    "\n",
    "In this tutorial, we'll quantize the DeeplabV3+ model for semantic segmentation with MCT's post-training quantization techniques. The pretrained model was created with [bonlime's repo](https://github.com/bonlime/keras-deeplab-v3-plus), after making the following changes:\n",
    "\n",
    "1. Input image size set to 320x320.\n",
    "2. `expand_dims` in `Lambda` layer replaced with a simple `Reshape` layer.\n",
    "3. `tf.compat.v1.image.resize` in `Lambda` layer replaced with a `Resizing` layer.\n",
    "4. Added `argmax` at model output to calculate the class id."
   ]
  },
  {
   "cell_type": "markdown",
   "source": [
    "## Setup\n",
    "### Install the relevant packages"
   ],
   "metadata": {
    "collapsed": false
   },
   "id": "d74f9c855ec54081"
  },
  {
   "cell_type": "code",
   "execution_count": null,
   "outputs": [],
   "source": [
    "TF_VER = '2.14.0'\n",
    "\n",
    "!pip install -q tensorflow=={TF_VER}\n",
    "!pip install 'huggingface-hub<=0.21.4'\n",
    "\n",
    "import importlib\n",
    "\n",
    "if not importlib.util.find_spec('model_compression_toolkit'):\n",
    "    !pip install model_compression_toolkit"
   ],
   "metadata": {
    "collapsed": false
   },
   "id": "7c7fa04c9903736f"
  },
  {
   "cell_type": "markdown",
   "source": [
    "### Download Pascel VOC 2012 dataset\n",
    "\n",
    "Download the Pascal dataset to the local folder."
   ],
   "metadata": {
    "collapsed": false
   },
   "id": "7a1038b9fd98bba2"
  },
  {
   "cell_type": "code",
   "execution_count": null,
   "outputs": [],
   "source": [
    "import os\n",
    "\n",
    "if not os.path.isdir('VOCdevkit'):\n",
    "    !wget -nc http://host.robots.ox.ac.uk/pascal/VOC/voc2012/VOCtrainval_11-May-2012.tar\n",
    "    !tar -xf VOCtrainval_11-May-2012.tar\n",
    "    !echo Done loading PascelVOC 2012"
   ],
   "metadata": {
    "collapsed": false
   },
   "id": "8bea492d71b4060f"
  },
  {
   "cell_type": "markdown",
   "id": "084c2b8b-3175-4d46-a18a-7c4d8b6fcb38",
   "metadata": {},
   "source": [
    "## Model Quantization\n",
    "\n",
    "### Download a Pre-Trained Model \n",
    "\n",
    "We begin by loading a pre-trained [DeeplabV3+](https://huggingface.co/SSI-DNN/keras_deeplabv3_plus_320) model.   "
   ]
  },
  {
   "cell_type": "code",
   "execution_count": null,
   "id": "e8395b28-4732-4d18-b081-5d3bdf508691",
   "metadata": {},
   "outputs": [],
   "source": [
    "from huggingface_hub import from_pretrained_keras\n",
    "\n",
    "model = from_pretrained_keras('SSI-DNN/keras_deeplabv3_plus_320')"
   ]
  },
  {
   "cell_type": "markdown",
   "source": [
    "### Create dataset object"
   ],
   "metadata": {
    "collapsed": false
   },
   "id": "8e684d59a80f273e"
  },
  {
   "cell_type": "code",
   "execution_count": null,
   "outputs": [],
   "source": [
    "import os\n",
    "import numpy as np\n",
    "from PIL import Image\n",
    "import cv2\n",
    "\n",
    "\n",
    "class PascalDataset:\n",
    "    def __init__(self, img_size=320, batch_size=16):\n",
    "        base_path = 'VOCdevkit/VOC2012'\n",
    "        val_file = os.path.join(base_path, 'ImageSets', 'Segmentation', 'val.txt')\n",
    "        with open(val_file) as f:\n",
    "            self.images_names = [os.path.join(base_path, 'JPEGImages', fname.split('\\n')[0] + '.jpg')\n",
    "                                 for fname in f.readlines()]\n",
    "        self.annotations_dict = {}\n",
    "        with open(val_file) as f:\n",
    "            for fname in f.readlines():\n",
    "                full_path_label_file = os.path.join(base_path, 'SegmentationClass', fname.split('\\n')[0] + '.png')\n",
    "                self.annotations_dict.update({os.path.basename(full_path_label_file.replace('.png', '.jpg')): full_path_label_file})\n",
    "\n",
    "        self.inds = list(range(len(self.images_names)))\n",
    "        self.img_size = img_size\n",
    "        self.batch_size = batch_size\n",
    "\n",
    "    def shuffle(self):\n",
    "        self.inds = np.random.permutation(self.inds)\n",
    "\n",
    "    def __len__(self):\n",
    "        return int(np.ceil(len(self.images_names) / self.batch_size))\n",
    "\n",
    "    def __iter__(self):\n",
    "        img_batch, ann_batch = [], []\n",
    "        for b, i in enumerate(self.inds):\n",
    "            img_name = self.images_names[i]\n",
    "            _name = img_name.split('/')[-1]\n",
    "            img = np.array(Image.open(img_name))\n",
    "            img = cv2.resize(img, (self.img_size, self.img_size))\n",
    "            img = (img - 127.5) / 127.5\n",
    "            ann = np.array(Image.open(self.annotations_dict[_name]))\n",
    "            ann = cv2.resize(ann, (self.img_size, self.img_size), interpolation=cv2.INTER_NEAREST)\n",
    "\n",
    "            img_batch.append(img)\n",
    "            ann_batch.append(ann)\n",
    "            if len(img_batch) == self.batch_size:\n",
    "                yield [np.stack(img_batch), np.stack(ann_batch)]\n",
    "                img_batch, ann_batch = [], []\n",
    "\n",
    "        yield [np.stack(img_batch), np.stack(ann_batch)]"
   ],
   "metadata": {
    "collapsed": false
   },
   "id": "14a6e0ec4235701d"
  },
  {
   "cell_type": "markdown",
   "id": "3cde2f8e-0642-4374-a1f4-df2775fe7767",
   "metadata": {},
   "source": [
    "### Post training quantization using Model Compression Toolkit \n",
    "\n",
    "Now, we're all set to use MCT's post-training quantization. To begin, we'll define a representative dataset and proceed with the model quantization. Please note that, for demonstration purposes, we'll use the evaluation dataset as our representative dataset. We'll calibrate the model using 320 images, divided into 20 iterations of 'batch_size' images each. "
   ]
  },
  {
   "cell_type": "code",
   "execution_count": null,
   "outputs": [],
   "source": [
    "import model_compression_toolkit as mct\n",
    "from typing import Iterator, List\n",
    "\n",
    "\n",
    "n_iters = 20\n",
    "\n",
    "\n",
    "# Define representative dataset generator\n",
    "def get_representative_dataset():\n",
    "    \"\"\"\n",
    "    This function creates a representative dataset generator. The generator yields numpy\n",
    "    arrays of batches of shape: [Batch, H, W ,C].\n",
    "    \n",
    "    Returns:\n",
    "        A representative dataset generator\n",
    "    \"\"\"       \n",
    "\n",
    "    representative_dataset = PascalDataset()\n",
    "    representative_dataset.shuffle()\n",
    "    \n",
    "    \n",
    "    def _representative_dataset() -> Iterator[List]:\n",
    "        ds_iter = iter(representative_dataset)\n",
    "        for _ in range(n_iters):\n",
    "            yield [next(ds_iter)[0]]\n",
    "\n",
    "    return _representative_dataset\n",
    "\n",
    "\n",
    "# Set IMX500-v1 TPC\n",
    "tpc = mct.get_target_platform_capabilities(\"tensorflow\", 'imx500', target_platform_version='v1')\n",
    "\n",
    "# Perform post training quantization\n",
    "quant_model, _ = mct.ptq.keras_post_training_quantization(model,\n",
    "                                                          get_representative_dataset(),\n",
    "                                                          target_platform_capabilities=tpc)\n",
    "print('Quantized model is ready')"
   ],
   "metadata": {
    "collapsed": false
   },
   "id": "56393342-cecf-4f64-b9ca-2f515c765942"
  },
  {
   "cell_type": "markdown",
   "source": [
    "### Model Export\n",
    "\n",
    "Now, we can export the quantized model, ready for deployment, into a `.keras` format file. Please ensure that the `save_model_path` has been set correctly. "
   ],
   "metadata": {
    "collapsed": false
   },
   "id": "3be2016acdc9da60"
  },
  {
   "cell_type": "code",
   "execution_count": null,
   "outputs": [],
   "source": [
    "mct.exporter.keras_export_model(model=quant_model, save_model_path='qmodel.keras')"
   ],
   "metadata": {
    "collapsed": false
   },
   "id": "72dd885c7b92fa93"
  },
  {
   "cell_type": "markdown",
   "id": "015e760b-6555-45b4-aaf9-500e974c1d86",
   "metadata": {},
   "source": [
    "## Evaluation on Pascal dataset\n",
    "\n",
    "### Floating point model evaluation\n",
    "\n",
    "Evaluate the floating point model on PascalVoc using tensorflow MeanIoU metric."
   ]
  },
  {
   "cell_type": "code",
   "execution_count": null,
   "id": "01e90967-594b-480f-b2e6-45e2c9ce9cee",
   "metadata": {},
   "outputs": [],
   "source": [
    "import tensorflow as tf\n",
    "from tqdm import tqdm\n",
    "\n",
    "metric = tf.keras.metrics.MeanIoU(21, ignore_class=255)\n",
    "for imgs, labels in tqdm(PascalDataset()):\n",
    "    out = model(imgs)\n",
    "    metric.update_state(labels, out)\n",
    "print(f'\\nFloat model MeanIOU = {metric.result().numpy()*100:2.3f}')"
   ]
  },
  {
   "cell_type": "markdown",
   "id": "4fb6bffc-23d1-4852-8ec5-9007361c8eeb",
   "metadata": {},
   "source": [
    "### Quantized model evaluation\n",
    "Lastly, we can evaluate the performance of the quantized model. There is a slight decrease in performance that can be further mitigated by either expanding the representative dataset or employing MCT's advanced quantization methods, such as GPTQ (Gradient-Based/Enhanced Post Training Quantization)."
   ]
  },
  {
   "cell_type": "code",
   "execution_count": null,
   "id": "8dc7b87c-a9f4-4568-885a-fe009c8f4e8f",
   "metadata": {},
   "outputs": [],
   "source": [
    "metric = tf.keras.metrics.MeanIoU(21, ignore_class=255)\n",
    "for imgs, labels in tqdm(PascalDataset()):\n",
    "    out = quant_model(imgs)\n",
    "    metric.update_state(labels, out)\n",
    "print(f'\\nQuantized model MeanIOU = {metric.result().numpy()*100:2.3f}')"
   ]
  },
  {
   "cell_type": "markdown",
   "source": [
    "\\\n",
    "Copyright 2024 Sony Semiconductor Israel, Inc. All rights reserved.\n",
    "\n",
    "Licensed under the Apache License, Version 2.0 (the \"License\");\n",
    "you may not use this file except in compliance with the License.\n",
    "You may obtain a copy of the License at\n",
    "\n",
    "    http://www.apache.org/licenses/LICENSE-2.0\n",
    "\n",
    "Unless required by applicable law or agreed to in writing, software\n",
    "distributed under the License is distributed on an \"AS IS\" BASIS,\n",
    "WITHOUT WARRANTIES OR CONDITIONS OF ANY KIND, either express or implied.\n",
    "See the License for the specific language governing permissions and\n",
    "limitations under the License."
   ],
   "metadata": {
    "collapsed": false
   },
   "id": "6d93352843a27433"
  }
 ],
 "metadata": {
  "kernelspec": {
   "display_name": "Python 3 (ipykernel)",
   "language": "python",
   "name": "python3"
  },
  "language_info": {
   "codemirror_mode": {
    "name": "ipython",
    "version": 3
   },
   "file_extension": ".py",
   "mimetype": "text/x-python",
   "name": "python",
   "nbconvert_exporter": "python",
   "pygments_lexer": "ipython3",
   "version": "3.9.7"
  },
  "colab": {
   "provenance": []
  }
 },
 "nbformat": 4,
 "nbformat_minor": 5
}
