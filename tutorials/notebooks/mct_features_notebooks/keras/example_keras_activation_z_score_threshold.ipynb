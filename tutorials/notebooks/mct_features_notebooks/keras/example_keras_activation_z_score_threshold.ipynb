{
 "cells": [
  {
   "cell_type": "markdown",
   "id": "f8194007-6ea7-4e00-8931-a37ca2d0dd20",
   "metadata": {
    "id": "f8194007-6ea7-4e00-8931-a37ca2d0dd20"
   },
   "source": [
    "# Activation Z-Score Threshold Demonstration For Post-Training Quantization\n",
    "\n",
    "\n"
   ]
  },
  {
   "cell_type": "markdown",
   "id": "9be59ea8-e208-4b64-aede-1dd6270b3540",
   "metadata": {
    "id": "9be59ea8-e208-4b64-aede-1dd6270b3540"
   },
   "source": [
    "[Run this tutorial in Google Colab](https://colab.research.google.com/github/sony/model_optimization/blob/main/tutorials/notebooks/mct_features_notebooks/keras/example_keras_activation_z_score_threshold.ipynb)"
   ]
  },
  {
   "cell_type": "markdown",
   "id": "930e6d6d-4980-4d66-beed-9ff5a494acf9",
   "metadata": {
    "id": "930e6d6d-4980-4d66-beed-9ff5a494acf9"
   },
   "source": [
    "## Overview"
   ]
  },
  {
   "cell_type": "markdown",
   "id": "699be4fd-d382-4eec-9d3f-e2e85cfb1762",
   "metadata": {
    "id": "699be4fd-d382-4eec-9d3f-e2e85cfb1762"
   },
   "source": [
    "This tutorial demonstrates the process used to find the activation z-score threshold, a step that MCT can use during post-training quantization.\n",
    "\n",
    "In this example we will explore how setting different z scores effects threshold and accuracy. We will start by demonstrating how to apply the corresponding MCT configurations, then, we will feed a representative dataset through the model, plot the activation distribution of an activation layer with their respective MCT calculated z-score thresholds, and finally compare the quantized model accuracy of the examples of different z-score.\n"
   ]
  },
  {
   "cell_type": "markdown",
   "id": "85199e25-c587-41b1-aaf5-e1d23ce97ca1",
   "metadata": {
    "id": "85199e25-c587-41b1-aaf5-e1d23ce97ca1"
   },
   "source": [
    "## Activation threshold explanation"
   ]
  },
  {
   "cell_type": "markdown",
   "id": "a89a17f4-30c9-4caf-a888-424f7a82fbc8",
   "metadata": {
    "id": "a89a17f4-30c9-4caf-a888-424f7a82fbc8"
   },
   "source": [
    "During quantization process, thresholds are used to map a distribution of 32-bit float values to their quantized counterparts. Doing this with the least loss of data while maintaining the most representative range is important for final model accuracy.\n",
    "\n",
    "Some models exhibit anomolus values when fed a representative dataset. It is in the interest of the models accuracy to remove these values so that the quantization threshold results in a more reliable range mapping.\n",
    "\n",
    "MCT has the option to remove these using z-score thresholding. Allowing the user to remove data based on standard distributions.\n",
    "\n",
    "The Z-score of a value is calculated by subtracting the mean of the dataset from the value and then dividing by the standard deviation of the dataset. This measures how many standard deviations an element is from the mean.\n",
    "\n",
    "\n",
    "\n",
    "To calculate a threshold $t$ for quantization based on a Z-score threshold $Z_t$, you might define $t$ as a function of $Z_t$, $\\mu$, and $\\sigma$, such as:\n",
    "\n",
    "$$\n",
    "t(Z_t) = μ + Z_t \\cdot σ\n",
    "$$\n",
    "\n",
    "\n",
    "Where:\n",
    "\n",
    "- $t(Z_t)$: The quantization threshold calculated based on a Z-score threshold $Z_t$.\n",
    "- $Z_t$: The chosen Z-score threshold value, which determines how many standard deviations from the mean an activation needs to be to be considered for special handling (e.g., removal or adjustment) before the main quantization process.\n",
    "- $\\mu = \\frac{1}{n_s} \\sum_{X \\in Fl(D)} X$: The mean of activations\n",
    "- $\\sigma = \\sqrt{\\frac{1}{n_s} \\sum_{X \\in Fl(D)} (X - \\mu)^2}$: The standard deviation of activations in $Fl(D)$.\n",
    "where:\n",
    "- $Fl(D)$ is the activation distribution and $X$ is an individual activation.\n",
    "\n",
    "\n",
    "This equation for $t(Z_t)$ allows you to set a threshold based on the statistical distribution of activations, identifying values that are unusually high or low relative to the rest of the data. These identified values can then be removed before applying the main quantization algorithm."
   ]
  },
  {
   "cell_type": "markdown",
   "id": "04228b7c-00f1-4ded-bead-722e2a4e89a0",
   "metadata": {
    "id": "04228b7c-00f1-4ded-bead-722e2a4e89a0"
   },
   "source": [
    "## Setup"
   ]
  },
  {
   "cell_type": "markdown",
   "id": "2657cf1a-654d-45a6-b877-8bf42fc26d0d",
   "metadata": {
    "id": "2657cf1a-654d-45a6-b877-8bf42fc26d0d"
   },
   "source": [
    "Install and import the relevant packages:\n"
   ]
  },
  {
   "cell_type": "code",
   "execution_count": null,
   "id": "324685b9-5dcc-4d22-80f4-dec9a93d3324",
   "metadata": {
    "id": "324685b9-5dcc-4d22-80f4-dec9a93d3324"
   },
   "outputs": [],
   "source": [
    "TF_VER = '2.14.0'\n",
    "\n",
    "!pip install -q tensorflow=={TF_VER}\n",
    "!pip install -q mct-nightly"
   ]
  },
  {
   "cell_type": "code",
   "execution_count": null,
   "id": "b3f0acc8-281c-4bca-b0b9-3d7677105f19",
   "metadata": {
    "id": "b3f0acc8-281c-4bca-b0b9-3d7677105f19"
   },
   "outputs": [],
   "source": [
    "import tensorflow as tf\n",
    "import keras\n",
    "import model_compression_toolkit as mct\n",
    "import os"
   ]
  },
  {
   "cell_type": "markdown",
   "id": "z8F-avk3azgZ",
   "metadata": {
    "id": "z8F-avk3azgZ"
   },
   "source": [
    "Clone MCT to gain access to tutorial scripts"
   ]
  },
  {
   "cell_type": "code",
   "execution_count": null,
   "id": "e3b675cf-e1b5-4249-a581-ffb9b1c16ba1",
   "metadata": {
    "id": "e3b675cf-e1b5-4249-a581-ffb9b1c16ba1"
   },
   "outputs": [],
   "source": [
    "!git clone https://github.com/sony/model_optimization.git local_mct\n",
    "!pip install -r ./local_mct/requirements.txt\n",
    "import sys\n",
    "sys.path.insert(0,\"./local_mct\")\n",
    "import tutorials.resources.utils.keras_tutorial_tools as tutorial_tools\n"
   ]
  },
  {
   "cell_type": "markdown",
   "id": "0c7fed0d-cfc8-41ee-adf1-22a98110397b",
   "metadata": {
    "id": "0c7fed0d-cfc8-41ee-adf1-22a98110397b"
   },
   "source": [
    "## Dataset"
   ]
  },
  {
   "cell_type": "markdown",
   "id": "aecde59e4c37b1da",
   "metadata": {
    "collapsed": false,
    "id": "aecde59e4c37b1da"
   },
   "source": [
    "Load ImageNet classification dataset and seperate a small representative subsection of this dataset to use for quantization."
   ]
  },
  {
   "cell_type": "code",
   "execution_count": null,
   "id": "_ztv72uM6-UT",
   "metadata": {
    "id": "_ztv72uM6-UT"
   },
   "outputs": [],
   "source": [
    "if not os.path.isdir('imagenet'):\n",
    "    !mkdir imagenet\n",
    "    !wget https://image-net.org/data/ILSVRC/2012/ILSVRC2012_devkit_t12.tar.gz\n",
    "    !mv ILSVRC2012_devkit_t12.tar.gz imagenet/\n",
    "    !wget https://image-net.org/data/ILSVRC/2012/ILSVRC2012_img_val.tar\n",
    "    !mv ILSVRC2012_img_val.tar imagenet/"
   ]
  },
  {
   "cell_type": "code",
   "execution_count": null,
   "id": "YVAoUjK47Zcp",
   "metadata": {
    "id": "YVAoUjK47Zcp"
   },
   "outputs": [],
   "source": [
    "import torchvision\n",
    "if not os.path.isdir('imagenet/val'):\n",
    "    ds = torchvision.datasets.ImageNet(root='./imagenet', split='val')"
   ]
  },
  {
   "cell_type": "markdown",
   "id": "fcbb3eecae5346a9",
   "metadata": {
    "collapsed": false,
    "id": "fcbb3eecae5346a9"
   },
   "source": [
    "Here we create the representative dataset. For detail on this step see [ImageNet tutorial](https://colab.research.google.com/github/sony/model_optimization/blob/main/tutorials/notebooks/imx500_notebooks/keras/example_keras_mobilenetv2_for_imx500.ipynb). If you are running locally a higher fraction of the dataset can be used."
   ]
  },
  {
   "cell_type": "code",
   "execution_count": null,
   "id": "eda9ad33-f88c-4178-8f19-bac6b2b2e97b",
   "metadata": {
    "id": "eda9ad33-f88c-4178-8f19-bac6b2b2e97b"
   },
   "outputs": [],
   "source": [
    "REPRESENTATIVE_DATASET_FOLDER = './imagenet/val'\n",
    "BATCH_SIZE = 20\n",
    "fraction =0.001\n",
    "model_version = 'MobileNet'\n",
    "\n",
    "preprocessor = tutorial_tools.DatasetPreprocessor(model_version=model_version)\n",
    "representative_dataset_gen = preprocessor.get_representative_dataset(fraction, REPRESENTATIVE_DATASET_FOLDER, BATCH_SIZE)"
   ]
  },
  {
   "cell_type": "markdown",
   "id": "4a1e9ba6-2954-4506-ad5c-0da273701ba5",
   "metadata": {
    "id": "4a1e9ba6-2954-4506-ad5c-0da273701ba5"
   },
   "source": [
    "## MCT Quantization"
   ]
  },
  {
   "cell_type": "markdown",
   "id": "55edbb99-ab2f-4dde-aa74-4ddee61b2615",
   "metadata": {
    "id": "55edbb99-ab2f-4dde-aa74-4ddee61b2615"
   },
   "source": [
    "This step we load the model and quantize with a few z-score thresholds.\n"
   ]
  },
  {
   "cell_type": "markdown",
   "id": "VMrcPUN6jPlB",
   "metadata": {
    "id": "VMrcPUN6jPlB"
   },
   "source": [
    "First we load MobileNet from the keras library."
   ]
  },
  {
   "cell_type": "code",
   "execution_count": null,
   "id": "c431848f-a5f4-4737-a5c8-f046a8bca840",
   "metadata": {
    "id": "c431848f-a5f4-4737-a5c8-f046a8bca840"
   },
   "outputs": [],
   "source": [
    "from tensorflow.keras.applications import MobileNet\n",
    "float_model = MobileNet(weights='imagenet')"
   ]
  },
  {
   "cell_type": "markdown",
   "id": "Pd8blHyKjWay",
   "metadata": {
    "id": "Pd8blHyKjWay"
   },
   "source": [
    "Quantization perameters are defined. Here we will use default values apart from quantization method."
   ]
  },
  {
   "cell_type": "code",
   "execution_count": null,
   "id": "ca971297-e00b-44b5-b9e1-e57ba5843e38",
   "metadata": {
    "id": "ca971297-e00b-44b5-b9e1-e57ba5843e38"
   },
   "outputs": [],
   "source": [
    "from model_compression_toolkit.core import QuantizationErrorMethod\n",
    "\n",
    "# Specify the IMX500-v1 target platform capability (TPC)\n",
    "tpc = mct.get_target_platform_capabilities(\"tensorflow\", 'imx500', target_platform_version='v1')\n",
    "\n",
    "# List of error methods to iterate over\n",
    "q_configs_dict = {}"
   ]
  },
  {
   "cell_type": "markdown",
   "id": "Vot-MCiWjzCE",
   "metadata": {
    "id": "Vot-MCiWjzCE"
   },
   "source": [
    "You can edit the code below to quantize with other values of z-score."
   ]
  },
  {
   "cell_type": "code",
   "execution_count": null,
   "id": "jtiZzXmTjxuI",
   "metadata": {
    "id": "jtiZzXmTjxuI"
   },
   "outputs": [],
   "source": [
    "# Z-score values to iterate over\n",
    "z_score_values = [3,5,9]\n",
    "\n",
    "# Iterate and build the QuantizationConfig objects\n",
    "for z_score in z_score_values:\n",
    "    q_config = mct.core.QuantizationConfig(\n",
    "        z_threshold=z_score,\n",
    "    )\n",
    "    q_configs_dict[z_score] = q_config\n",
    "\n"
   ]
  },
  {
   "cell_type": "markdown",
   "id": "8W3Dcn0jkJOH",
   "metadata": {
    "id": "8W3Dcn0jkJOH"
   },
   "source": [
    "Finally we quantize the model, this can take some time. Grab a coffee!"
   ]
  },
  {
   "cell_type": "code",
   "execution_count": null,
   "id": "ba0c6e55-d474-4dc3-9a43-44b736635998",
   "metadata": {
    "id": "ba0c6e55-d474-4dc3-9a43-44b736635998"
   },
   "outputs": [],
   "source": [
    "quantized_models_dict = {}\n",
    "\n",
    "for z_score, q_config in q_configs_dict.items():\n",
    "    # Create a CoreConfig object with the current quantization configuration\n",
    "    ptq_config = mct.core.CoreConfig(quantization_config=q_config)\n",
    "\n",
    "    # Perform MCT post-training quantization\n",
    "    quantized_model, quantization_info = mct.ptq.keras_post_training_quantization(\n",
    "        in_model=float_model,\n",
    "        representative_data_gen=representative_dataset_gen,\n",
    "        core_config=ptq_config,\n",
    "        target_platform_capabilities=tpc\n",
    "    )\n",
    "\n",
    "    # Update the dictionary to include the quantized model\n",
    "    quantized_models_dict[z_score] = {\n",
    "        \"quantization_config\": q_config,\n",
    "        \"quantized_model\": quantized_model,\n",
    "        \"quantization_info\": quantization_info\n",
    "    }\n"
   ]
  },
  {
   "cell_type": "markdown",
   "id": "A8UHRsh2khM4",
   "metadata": {
    "id": "A8UHRsh2khM4"
   },
   "source": [
    "### Z-Score Threshold and Distribution Visulisation"
   ]
  },
  {
   "cell_type": "markdown",
   "id": "Y-0QLWFJkpFV",
   "metadata": {
    "id": "Y-0QLWFJkpFV"
   },
   "source": [
    "To assist with understanding we will now plot the activation distribution of Mobilenet's first activation layer.\n",
    "\n",
    "This will be obtained by feeding the representative dataset through the model.\n",
    "To see the distribution of the activations the model needs to be rebuilt upto and including the layer chosen for distribution visulisation.\n",
    "\n",
    "To see said layers z-score threshold values. we will need to calculate these manually using the equestion stated in the introduction.\n",
    "\n",
    "To plot the distribution we first need to list the layer names. With keras this can be done easily using the following. We established the index of the layer of interest using various checks that can be seen in the appendix section."
   ]
  },
  {
   "cell_type": "code",
   "execution_count": null,
   "id": "a22e6d68-c40f-40bf-ab74-ff453011aeac",
   "metadata": {
    "id": "a22e6d68-c40f-40bf-ab74-ff453011aeac"
   },
   "outputs": [],
   "source": [
    "#print layer name\n",
    "print(float_model.layers[51].name)"
   ]
  },
  {
   "cell_type": "markdown",
   "id": "c38d28f3-c947-4c7c-aafa-e96cc3864277",
   "metadata": {
    "id": "c38d28f3-c947-4c7c-aafa-e96cc3864277"
   },
   "source": [
    "The example activation layer in model is 'conv_dw_8_relu'.\n",
    "\n",
    "Use this layer name to create a model ending at conv_dw_8_relu"
   ]
  },
  {
   "cell_type": "code",
   "execution_count": null,
   "id": "1f9dd3f3-6e22-4be9-9beb-29568ff14c9d",
   "metadata": {
    "id": "1f9dd3f3-6e22-4be9-9beb-29568ff14c9d"
   },
   "outputs": [],
   "source": [
    "from tensorflow.keras.models import Model\n",
    "layer_name1 = 'conv_dw_8_relu'\n",
    "\n",
    "layer_output1 = float_model.get_layer(layer_name1).output\n",
    "activation_model_relu = Model(inputs=float_model.input, outputs=layer_output1)"
   ]
  },
  {
   "cell_type": "markdown",
   "id": "ccc81508-01e5-421c-9b48-6ed3ce5b7364",
   "metadata": {
    "id": "ccc81508-01e5-421c-9b48-6ed3ce5b7364"
   },
   "source": [
    "Feed the representative dataset through these models and store the output."
   ]
  },
  {
   "cell_type": "code",
   "execution_count": null,
   "id": "eaeb9888-5d67-4979-af50-80781a811b4b",
   "metadata": {
    "id": "eaeb9888-5d67-4979-af50-80781a811b4b"
   },
   "outputs": [],
   "source": [
    "import numpy as np\n",
    "activation_batches_relu = []\n",
    "activation_batches_project = []\n",
    "for images in representative_dataset_gen():\n",
    "    activations_relu = activation_model_relu.predict(images)\n",
    "    activation_batches_relu.append(activations_relu)\n",
    "\n",
    "all_activations_relu = np.concatenate(activation_batches_relu, axis=0).flatten()"
   ]
  },
  {
   "cell_type": "markdown",
   "id": "I5W9yY5DvOFr",
   "metadata": {
    "id": "I5W9yY5DvOFr"
   },
   "source": [
    "We can calculate the z-score for a layer using the equations stated in the introduction."
   ]
  },
  {
   "cell_type": "code",
   "execution_count": null,
   "id": "WDx-LQSyxpDK",
   "metadata": {
    "id": "WDx-LQSyxpDK"
   },
   "outputs": [],
   "source": [
    "optimal_thresholds_relu = {}\n",
    "\n",
    "# Calculate the mean and standard deviation of the activation data\n",
    "mean = np.mean(all_activations_relu)\n",
    "std_dev = np.std(all_activations_relu)\n",
    "\n",
    "# Calculate and store the threshold for each Z-score\n",
    "for zscore in z_score_values:\n",
    "    optimal_threshold = zscore * std_dev + mean\n",
    "    optimal_thresholds_relu[f'z-score {zscore}'] = optimal_threshold"
   ]
  },
  {
   "cell_type": "markdown",
   "id": "XRAr8L5mvuLd",
   "metadata": {
    "id": "XRAr8L5mvuLd"
   },
   "source": [
    "### Distribution Plots\n",
    "\n",
    "Here we plot the distribution from the resulting model along with its z score thresholds."
   ]
  },
  {
   "cell_type": "code",
   "execution_count": null,
   "id": "VPb8tBNGpJjo",
   "metadata": {
    "id": "VPb8tBNGpJjo"
   },
   "outputs": [],
   "source": [
    "import matplotlib.pyplot as plt\n",
    "import numpy as np\n",
    "\n",
    "# Plotting\n",
    "plt.figure(figsize=(10, 6))\n",
    "plt.hist(all_activations_relu, bins=100, alpha=0.5, label='Activations')\n",
    "for z_score, threshold in optimal_thresholds_relu.items():\n",
    "    random_color=np.random.rand(3,)\n",
    "    plt.axvline(threshold, linestyle='--', linewidth=2, color=random_color, label=f'{z_score}, z-score threshold: {threshold:.2f}')\n",
    "    z_score_1 = int(z_score.split(' ')[1])  # Splits the string and converts the second element to an integer\n",
    "    error_value = mse_error_thresholds[z_score_1]  # Now using the correct integer key to access the value\n",
    "    plt.axvline(error_value, linestyle='-', linewidth=2, color=random_color, label=f'{z_score}, MSE error Threshold: {error_value:.2f}')\n",
    "\n",
    "plt.title('Activation Distribution with Optimal Quantization Thresholds - First ReLU Layer')\n",
    "plt.xlabel('Activation Value')\n",
    "plt.ylabel('Frequency')\n",
    "plt.legend()\n",
    "plt.show()"
   ]
  },
  {
   "cell_type": "markdown",
   "id": "qbA6kFmw0vaf",
   "metadata": {
    "id": "qbA6kFmw0vaf"
   },
   "source": [
    "Here it can plainly be seen the effect of z-score on error threshold. The lowest z-score of 3 reduces the error threshold for that layer."
   ]
  },
  {
   "cell_type": "markdown",
   "id": "4c967d41-439d-405b-815f-be641f1768fe",
   "metadata": {
    "id": "4c967d41-439d-405b-815f-be641f1768fe"
   },
   "source": [
    "## Accuracy\n",
    "\n",
    "Finally we can show the effect of these different z-score thresholds on the models accuracy."
   ]
  },
  {
   "cell_type": "code",
   "execution_count": null,
   "id": "092d9fd0-8005-4551-b853-3b52840639c2",
   "metadata": {
    "id": "092d9fd0-8005-4551-b853-3b52840639c2"
   },
   "outputs": [],
   "source": [
    "REPRESENTATIVE_DATASET_FOLDER = './imagenet/val'\n",
    "BATCH_SIZE = 20\n",
    "fraction =0.005\n",
    "model_version = 'MobileNet'\n",
    "\n",
    "preprocessor = tutorial_tools.DatasetPreprocessor(model_version=model_version)\n",
    "evaluation_dataset = preprocessor.get_validation_dataset_fraction(fraction, REPRESENTATIVE_DATASET_FOLDER, BATCH_SIZE)"
   ]
  },
  {
   "cell_type": "code",
   "execution_count": null,
   "id": "8ebf7d04-7816-465c-9157-6068c0a4a08a",
   "metadata": {
    "id": "8ebf7d04-7816-465c-9157-6068c0a4a08a"
   },
   "outputs": [],
   "source": [
    "#prepare float model and evaluate\n",
    "float_model.compile(loss=keras.losses.SparseCategoricalCrossentropy(), metrics=[\"accuracy\"])\n",
    "results = float_model.evaluate(evaluation_dataset)"
   ]
  },
  {
   "cell_type": "code",
   "execution_count": null,
   "id": "07a22d28-56ff-46de-8ed0-1163c3b7a613",
   "metadata": {
    "id": "07a22d28-56ff-46de-8ed0-1163c3b7a613"
   },
   "outputs": [],
   "source": [
    "#prepare quantised models and evaluate\n",
    "evaluation_results = {}\n",
    "\n",
    "for z_score, data in quantized_models_dict.items():\n",
    "    quantized_model = data[\"quantized_model\"]\n",
    "\n",
    "    quantized_model.compile(loss=keras.losses.SparseCategoricalCrossentropy(), metrics=[\"accuracy\"])\n",
    "\n",
    "    results = quantized_model.evaluate(evaluation_dataset, verbose=0)  # Set verbose=0 to suppress the log messages\n",
    "\n",
    "    evaluation_results[z_score] = results\n",
    "\n",
    "    # Print the results\n",
    "    print(f\"Results for {z_score}: Loss = {results[0]}, Accuracy = {results[1]}\")"
   ]
  },
  {
   "cell_type": "markdown",
   "id": "GpEZ2E1qzWl3",
   "metadata": {
    "id": "GpEZ2E1qzWl3"
   },
   "source": [
    "Here we can see very minor gains from adjusting the z-score threshold. For the majority of simple models this trend will likely follow. From testing we have found that transformer models have a tendancy to benefit from anomoly removal but it is always worth playing with these perameters if your quantised accuracy is distinctly lower than your float model accuracy.\n",
    "\n"
   ]
  },
  {
   "cell_type": "markdown",
   "id": "14877777",
   "metadata": {
    "id": "14877777"
   },
   "source": [
    "## Conclusion"
   ]
  },
  {
   "cell_type": "markdown",
   "id": "bb7e1572",
   "metadata": {
    "id": "bb7e1572"
   },
   "source": [
    "In this tutorial, we demonstrated the z-score thresholding step used during quantization. Please use this code to assist with choosing z-score thresholds for your own model.\n",
    "\n",
    "We have found a when adjusting z-score the sweet spot tends to be between 8 and 12. with no change above 12 and distribution distruction below 8. This will likely require a study on your part for your specific usecase.\n",
    "\n",
    "\n"
   ]
  },
  {
   "cell_type": "markdown",
   "id": "BVHmePYJe7he",
   "metadata": {
    "id": "BVHmePYJe7he"
   },
   "source": [
    "## Appendix\n",
    "\n",
    "Below are a sellection of code samples used to establish the best layers to use for plotting thresholds and distributions.\n",
    "\n",
    "Firstly of the list of layers that are effected by this z-score adjustment"
   ]
  },
  {
   "cell_type": "code",
   "execution_count": null,
   "id": "cn-Ac9br9Ltz",
   "metadata": {
    "id": "cn-Ac9br9Ltz"
   },
   "outputs": [],
   "source": [
    "# Initialize a dictionary to hold threshold values for comparison\n",
    "thresholds_by_index = {}\n",
    "\n",
    "# Try to access each layer for each quantized model and collect threshold values\n",
    "for z_score, data in quantized_models_dict.items():\n",
    "    quantized_model = data[\"quantized_model\"]\n",
    "    for layer_index in range(len(quantized_model.layers)):\n",
    "        try:\n",
    "            # Attempt to access the threshold value for this layer\n",
    "            threshold = quantized_model.layers[layer_index].activation_holder_quantizer.get_config()['threshold'][0]\n",
    "            # Store the threshold value for comparison\n",
    "            if layer_index not in thresholds_by_index:\n",
    "                thresholds_by_index[layer_index] = set()\n",
    "            thresholds_by_index[layer_index].add(threshold)\n",
    "        except Exception as e:\n",
    "            pass\n",
    "\n",
    "# Find indices where threshold values are not consistent\n",
    "inconsistent_indices = [index for index, thresholds in thresholds_by_index.items() if len(thresholds) > 1]\n",
    "\n",
    "print(\"Inconsistent indices:\", inconsistent_indices)\n"
   ]
  },
  {
   "cell_type": "markdown",
   "id": "PiNdvojz_FDN",
   "metadata": {
    "id": "PiNdvojz_FDN"
   },
   "source": [
    "Choosing randomly from these we check the thresholds"
   ]
  },
  {
   "cell_type": "code",
   "execution_count": null,
   "id": "Huv0u6z106lX",
   "metadata": {
    "id": "Huv0u6z106lX"
   },
   "outputs": [],
   "source": [
    "mse_error_thresholds = {\n",
    "    z_score: data[\"quantized_model\"].layers[52].activation_holder_quantizer.get_config()['threshold'][0]\n",
    "    for z_score, data in quantized_models_dict.items()\n",
    "}\n",
    "print(mse_error_thresholds)"
   ]
  },
  {
   "cell_type": "markdown",
   "id": "0YPqhQOh_N2r",
   "metadata": {
    "id": "0YPqhQOh_N2r"
   },
   "source": [
    "We now want to varify which layers matchup indicies based on layer names of the float model. For the example of 52 there is no matching layer as it is a quantization of the previous layer. Checking 51 we can see that the indicies matches upto the layer name conv_dw_8_relu, we can use this to plot the distribution."
   ]
  },
  {
   "cell_type": "code",
   "execution_count": null,
   "id": "rWGx5-6uu5H-",
   "metadata": {
    "id": "rWGx5-6uu5H-"
   },
   "outputs": [],
   "source": [
    "target_z_score = 9\n",
    "\n",
    "for index, layer in enumerate(float_model.layers):\n",
    "    search_string = str(layer.name)\n",
    "\n",
    "    # Check if the target_z_score is in the quantized_models_dict\n",
    "    if target_z_score in quantized_models_dict:\n",
    "        data = quantized_models_dict[target_z_score]\n",
    "        # Iterate over each layer of the target quantized model\n",
    "        for quantized_index, quantized_layer in enumerate(data[\"quantized_model\"].layers):\n",
    "            found = search_string in str(quantized_layer.get_config())\n",
    "            # If found, print details including the indices of the matching layers\n",
    "            if found:\n",
    "                print(f\"Float Model Layer Index {index} & Quantized Model Layer Index {quantized_index}: Found match in layer name  {search_string}\")\n",
    "    else:\n",
    "        print(f\"Z-Score {target_z_score} not found in quantized_models_dict.\")\n"
   ]
  },
  {
   "cell_type": "code",
   "execution_count": null,
   "id": "AW_vC22Qw32E",
   "metadata": {
    "id": "AW_vC22Qw32E"
   },
   "outputs": [],
   "source": [
    "data[\"quantized_model\"].layers[51].get_config()"
   ]
  },
  {
   "cell_type": "markdown",
   "id": "01c1645e-205c-4d9a-8af3-e497b3addec1",
   "metadata": {
    "id": "01c1645e-205c-4d9a-8af3-e497b3addec1"
   },
   "source": [
    "\n",
    "\n",
    "Copyright 2024 Sony Semiconductor Israel, Inc. All rights reserved.\n",
    "\n",
    "Licensed under the Apache License, Version 2.0 (the \"License\");\n",
    "you may not use this file except in compliance with the License.\n",
    "You may obtain a copy of the License at\n",
    "\n",
    "    http://www.apache.org/licenses/LICENSE-2.0\n",
    "\n",
    "Unless required by applicable law or agreed to in writing, software\n",
    "distributed under the License is distributed on an \"AS IS\" BASIS,\n",
    "WITHOUT WARRANTIES OR CONDITIONS OF ANY KIND, either express or implied.\n",
    "See the License for the specific language governing permissions and\n",
    "limitations under the License.\n"
   ]
  }
 ],
 "metadata": {
  "colab": {
   "provenance": []
  },
  "kernelspec": {
   "display_name": "Python 3 (ipykernel)",
   "language": "python",
   "name": "python3"
  },
  "language_info": {
   "codemirror_mode": {
    "name": "ipython",
    "version": 3
   },
   "file_extension": ".py",
   "mimetype": "text/x-python",
   "name": "python",
   "nbconvert_exporter": "python",
   "pygments_lexer": "ipython3",
   "version": "3.10.12"
  }
 },
 "nbformat": 4,
 "nbformat_minor": 5
}
